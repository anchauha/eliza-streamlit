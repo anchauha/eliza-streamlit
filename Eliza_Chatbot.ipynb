{
 "cells": [
  {
   "cell_type": "code",
   "execution_count": 1,
   "metadata": {
    "id": "_yOcEFMRb7BR"
   },
   "outputs": [],
   "source": [
    "import random\n",
    "import nltk\n",
    "from nltk.sentiment import SentimentIntensityAnalyzer\n",
    "from nltk import pos_tag, ne_chunk, word_tokenize\n",
    "from nltk.corpus import stopwords"
   ]
  },
  {
   "cell_type": "code",
   "execution_count": 2,
   "metadata": {
    "colab": {
     "base_uri": "https://localhost:8080/"
    },
    "id": "HWaBEuzbcEHg",
    "outputId": "38ffa8a9-d4ca-4904-db78-36ebfcf45691"
   },
   "outputs": [
    {
     "name": "stderr",
     "output_type": "stream",
     "text": [
      "[nltk_data] Downloading package punkt to\n",
      "[nltk_data]     C:\\Users\\singh\\AppData\\Roaming\\nltk_data...\n",
      "[nltk_data]   Package punkt is already up-to-date!\n",
      "[nltk_data] Downloading package averaged_perceptron_tagger to\n",
      "[nltk_data]     C:\\Users\\singh\\AppData\\Roaming\\nltk_data...\n",
      "[nltk_data]   Package averaged_perceptron_tagger is already up-to-\n",
      "[nltk_data]       date!\n",
      "[nltk_data] Downloading package maxent_ne_chunker to\n",
      "[nltk_data]     C:\\Users\\singh\\AppData\\Roaming\\nltk_data...\n",
      "[nltk_data]   Package maxent_ne_chunker is already up-to-date!\n",
      "[nltk_data] Downloading package words to\n",
      "[nltk_data]     C:\\Users\\singh\\AppData\\Roaming\\nltk_data...\n",
      "[nltk_data]   Package words is already up-to-date!\n",
      "[nltk_data] Downloading package stopwords to\n",
      "[nltk_data]     C:\\Users\\singh\\AppData\\Roaming\\nltk_data...\n",
      "[nltk_data]   Package stopwords is already up-to-date!\n",
      "[nltk_data] Downloading package vader_lexicon to\n",
      "[nltk_data]     C:\\Users\\singh\\AppData\\Roaming\\nltk_data...\n",
      "[nltk_data]   Package vader_lexicon is already up-to-date!\n"
     ]
    },
    {
     "data": {
      "text/plain": [
       "True"
      ]
     },
     "execution_count": 2,
     "metadata": {},
     "output_type": "execute_result"
    }
   ],
   "source": [
    "# Ensure the necessary NLTK resources are downloaded\n",
    "nltk.download('punkt')\n",
    "nltk.download('averaged_perceptron_tagger')\n",
    "nltk.download('maxent_ne_chunker')\n",
    "nltk.download('words')\n",
    "nltk.download('stopwords')\n",
    "nltk.download('vader_lexicon')"
   ]
  },
  {
   "cell_type": "code",
   "execution_count": 3,
   "metadata": {
    "id": "0AeZWh6IcE5f"
   },
   "outputs": [],
   "source": [
    "sia = SentimentIntensityAnalyzer()"
   ]
  },
  {
   "cell_type": "code",
   "execution_count": 4,
   "metadata": {
    "id": "KXPHWCSMeb-C"
   },
   "outputs": [],
   "source": [
    "stop_words = set(stopwords.words('english'))"
   ]
  },
  {
   "cell_type": "code",
   "execution_count": 5,
   "metadata": {
    "id": "Ks01DTH2ed_8"
   },
   "outputs": [],
   "source": [
    "# Quotes for emotions\n",
    "# Quotes for emotions\n",
    "quotes = {\n",
    "    'sad': [\n",
    "        \"This too shall pass.\",\n",
    "        \"Every cloud has a silver lining.\",\n",
    "        \"The darkest hours have only sixty minutes. — Morris Mandel\",\n",
    "        \"Sadness flies away on the wings of time. — Jean de La Fontaine\",\n",
    "        \"What you have to understand is that three bad quarters do not make a trend. — Kendrick Lamar\",\n",
    "        \"Let your tears come. Let them water your soul. — Eileen Mayhew\",\n",
    "        \"It's okay to not be okay as long as you are not giving up.\",\n",
    "        \"Tough times never last but tough people do. — Robert H. Schuller\",\n",
    "        \"Sometimes when you're in a dark place you think you've been buried, but you've actually been planted. — Christine Caine\",\n",
    "    ],\n",
    "    'happy': [\n",
    "        \"Happiness is not by chance, but by choice. — Jim Rohn\",\n",
    "        \"The most wasted of days is one without laughter. — E. E. Cummings\",\n",
    "        \"Happiness radiates like the fragrance from a flower and draws all good things towards you. — Maharishi Mahesh Yogi\",\n",
    "        \"Be happy for this moment. This moment is your life. — Omar Khayyam\",\n",
    "        \"Happiness is when what you think, what you say, and what you do are in harmony. — Mahatma Gandhi\",\n",
    "    ],\n",
    "    'angry': [\n",
    "        \"For every minute you remain angry, you give up sixty seconds of peace of mind. — Ralph Waldo Emerson\",\n",
    "        \"Holding onto anger is like drinking poison and expecting the other person to die. — Buddha\",\n",
    "        \"The best fighter is never angry. — Lao Tzu\",\n",
    "    ],\n",
    "    'excited': [\n",
    "        \"With every adversity, there is a seed of an equivalent or greater benefit for those who are excited about life. — W. Clement Stone\",\n",
    "        \"Do something today that your future self will thank you for. — Sean Patrick Flanery\",\n",
    "        \"Enthusiasm moves the world. — Arthur Balfour\",\n",
    "    ],\n",
    "    'anxious': [\n",
    "        \"Anxiety does not empty tomorrow of its sorrows, but only empties today of its strength. — Charles Spurgeon\",\n",
    "        \"You don't have to control your thoughts; you just have to stop letting them control you. — Dan Millman\",\n",
    "        \"No need to hurry. No need to sparkle. No need to be anybody but oneself. — Virginia Woolf\",\n",
    "    ],\n",
    "    'confused': [\n",
    "        \"Confusion is a word we have invented for an order which is not yet understood. — Henry Miller\",\n",
    "        \"Sometimes confusion is the pathway to clarity. — Trevor Carss\",\n",
    "        \"The confusion we experience in this life is a whisper of the depth of our potential. — Gregg Braden\",\n",
    "    ],\n",
    "    # Add more emotions and their quotes as needed\n",
    "}"
   ]
  },
  {
   "cell_type": "code",
   "execution_count": 6,
   "metadata": {
    "id": "Z7EVhnlieg_4"
   },
   "outputs": [],
   "source": [
    "\n",
    "# Emotion responses, contexts, and whether a quote has been offered\n",
    "emotion_contexts = {\n",
    "    'sad': {\n",
    "        'responses': [\n",
    "            \"It sounds like you're going through a tough time. Want to talk about it?\",\n",
    "            \"Sadness can be really difficult. I'm here for you if you need to share.\",\n",
    "            \"I'm sorry to hear you're feeling sad. Sometimes sharing can help, what's on your mind?\"\n",
    "        ],\n",
    "        'last_context': None,\n",
    "        'quote_offered': False\n",
    "    },\n",
    "    'happy': {\n",
    "        'responses': [\n",
    "            \"Happiness is such a great feeling! What's been making you feel this way?\",\n",
    "            \"That's wonderful to hear! What's been going on that's making you happy?\",\n",
    "            \"It's great to see you in good spirits! What's the good news?\"\n",
    "        ],\n",
    "        'last_context': None,\n",
    "        'quote_offered': False\n",
    "    },\n",
    "    'angry': {\n",
    "        'responses': [\n",
    "            \"Anger can be tough to handle. What's been making you feel this way?\",\n",
    "            \"It's okay to feel angry sometimes, but it's important to handle it in a healthy way. Want to talk about it?\",\n",
    "            \"Anger is a natural response to frustration. Do you want to discuss what's been frustrating you?\"\n",
    "        ],\n",
    "        'last_context': None,\n",
    "        'quote_offered': False\n",
    "    },\n",
    "    'excited': {\n",
    "        'responses': [\n",
    "            \"Excitement can be so energizing! What's got you feeling this way?\",\n",
    "            \"It's great to be excited about things. Tell me more about it!\",\n",
    "            \"Your excitement is contagious! What's happening that's exciting for you?\"\n",
    "        ],\n",
    "        'last_context': None,\n",
    "        'quote_offered': False\n",
    "    },\n",
    "    'anxious': {\n",
    "        'responses': [\n",
    "            \"Anxiety can be really tough. What's on your mind that's causing you to feel this way?\",\n",
    "            \"Feeling anxious is something many of us experience. Want to talk about what's making you anxious?\",\n",
    "            \"When you're feeling anxious, sometimes talking about it can help. What's bothering you?\"\n",
    "        ],\n",
    "        'last_context': None,\n",
    "        'quote_offered': False\n",
    "    },\n",
    "    'confused': {\n",
    "        'responses': [\n",
    "            \"Confusion can be unsettling. Do you want to talk through what's on your mind?\",\n",
    "            \"It's completely okay to feel confused. Want to discuss what's causing these feelings?\",\n",
    "            \"Feeling confused is a sign you're facing something complex. Care to share more about it?\"\n",
    "        ],\n",
    "        'last_context': None,\n",
    "        'quote_offered': False\n",
    "    },\n",
    "    'neutral': {\n",
    "        'responses': [\n",
    "            \"I see. Do you want to talk more about it?\",\n",
    "            \"Understood. Anything else you would like to share?\",\n",
    "        ],\n",
    "        'last_context': None,\n",
    "        'quote_offered': False\n",
    "    },\n",
    "    # Add other emotions as needed with their own lists of responses, 'last_context' key, and 'quote_offered' key\n",
    "}\n"
   ]
  },
  {
   "cell_type": "code",
   "execution_count": 7,
   "metadata": {
    "id": "M_ZUrwJOelpd"
   },
   "outputs": [],
   "source": [
    "conversation_tree = {}"
   ]
  },
  {
   "cell_type": "code",
   "execution_count": 8,
   "metadata": {
    "id": "dXtQKNlVetcr"
   },
   "outputs": [],
   "source": [
    "def update_conversation_tree(tree, path, input_data):\n",
    "    node = tree\n",
    "    for key in path:\n",
    "        node = node.setdefault(key, {})\n",
    "    node['input'] = input_data\n",
    "    node['entities'] = identify_named_entities(input_data)"
   ]
  },
  {
   "cell_type": "code",
   "execution_count": 9,
   "metadata": {
    "id": "EFDXO6Ajew1J"
   },
   "outputs": [],
   "source": [
    "def get_last_conversation_piece(tree, path):\n",
    "    node = tree\n",
    "    try:\n",
    "        for key in path:\n",
    "            node = node[key]\n",
    "    except (KeyError, TypeError):\n",
    "        return None, None\n",
    "    return node.get('input'), node.get('entities')"
   ]
  },
  {
   "cell_type": "code",
   "execution_count": 10,
   "metadata": {
    "id": "xkv1BC-se7vU"
   },
   "outputs": [],
   "source": [
    "def process_input(user_input):\n",
    "    # Look for direct emotion statements\n",
    "    for emotion in quotes.keys():\n",
    "        if emotion in user_input.lower():\n",
    "            return emotion, 0, emotion_contexts[emotion]['responses']\n",
    "\n",
    "    # Tokenize and remove stop words\n",
    "    words = word_tokenize(user_input)\n",
    "    filtered_sentence = [w for w in words if not w.lower() in stop_words]\n",
    "\n",
    "    # Analyze sentiment\n",
    "    sentiment = sia.polarity_scores(' '.join(filtered_sentence))\n",
    "    # Set thresholds for sentiment (these can be adjusted)\n",
    "    if sentiment['compound'] > 0.5:\n",
    "        primary_emotion = 'happy'\n",
    "    elif sentiment['compound'] < -0.5:\n",
    "        primary_emotion = 'sad'\n",
    "    else:\n",
    "        primary_emotion = 'neutral'\n",
    "\n",
    "    return primary_emotion, sentiment['compound'], emotion_contexts[primary_emotion]['responses']"
   ]
  },
  {
   "cell_type": "code",
   "execution_count": 11,
   "metadata": {
    "id": "KEW5IMQhe_1L"
   },
   "outputs": [],
   "source": [
    "def identify_named_entities(text):\n",
    "    named_entities = []\n",
    "    for sentence in nltk.sent_tokenize(text):\n",
    "        # Tokenize words, tag parts of speech, and extract named entities\n",
    "        for chunk in nltk.ne_chunk(nltk.pos_tag(nltk.word_tokenize(sentence))):\n",
    "            if hasattr(chunk, 'label'):\n",
    "                # Append named entities to the list\n",
    "                named_entities.append(chunk)\n",
    "    return named_entities"
   ]
  },
  {
   "cell_type": "code",
   "execution_count": 12,
   "metadata": {
    "id": "NeOtmxKkfW9w"
   },
   "outputs": [],
   "source": [
    "def provide_quote(emotion):\n",
    "    if emotion in quotes:\n",
    "        return random.choice(quotes[emotion])\n",
    "    else:\n",
    "        return \"I don't have a quote for that, but I'm here to listen.\""
   ]
  },
  {
   "cell_type": "code",
   "execution_count": 13,
   "metadata": {
    "colab": {
     "base_uri": "https://localhost:8080/"
    },
    "id": "0O7DHNckfZEK",
    "outputId": "063a1315-ab74-407c-dd3c-ff47060ea9bd"
   },
   "outputs": [
    {
     "name": "stdout",
     "output_type": "stream",
     "text": [
      "Hello, I am Eliza. What is your name?\n",
      ": Ankit\n",
      "Nice to meet you, Ankit. How are you feeling today? You can share your feelings or just say anything that's on your mind.\n",
      ": I am feeling sad\n",
      "If you're feeling sad, sometimes a thoughtful quote can offer a new perspective. Would you like to hear one?\n",
      ": Yes\n",
      "Let your tears come. Let them water your soul. — Eileen Mayhew\n",
      "I hope that resonated with you. Do you feel a bit better or would you like to keep talking?\n",
      ": I feel better\n",
      "Understood. Please go ahead and share more of your thoughts or anything else you'd like to discuss.\n",
      ": I love to travel\n",
      "If you're feeling happy, sometimes a thoughtful quote can offer a new perspective. Would you like to hear one?\n",
      ": Yes\n",
      "Happiness radiates like the fragrance from a flower and draws all good things towards you. — Maharishi Mahesh Yogi\n",
      "I hope that resonated with you. Do you feel a bit better or would you like to keep talking?\n",
      ": No\n",
      "Understood. Please go ahead and share more of your thoughts or anything else you'd like to discuss.\n",
      ": exit\n",
      "Goodbye! It was nice talking to you.\n"
     ]
    }
   ],
   "source": [
    "# Main chatbot function with context management\n",
    "def eliza_chatbot():\n",
    "    print(\"Hello, I am Eliza. What is your name?\")\n",
    "    name = input(\": \")\n",
    "    print(f\"Nice to meet you, {name}. How are you feeling today? You can share your feelings or just say anything that's on your mind.\")\n",
    "\n",
    "    # Initialize context variables\n",
    "    current_emotion = 'neutral'\n",
    "    previous_emotion = 'neutral'\n",
    "    previous_sentiment_score = 0\n",
    "    previous_inputs = set()  # Initialize a set to track previous inputs\n",
    "\n",
    "    while True:\n",
    "        user_input = input(\": \").strip()\n",
    "\n",
    "        # Check for exiting the conversation\n",
    "        if user_input.lower() in ['quit', 'exit', 'bye','goodbye']:\n",
    "            print(\"Goodbye! It was nice talking to you.\")\n",
    "            break\n",
    "\n",
    "        # Check for repeated input\n",
    "        if user_input.lower() in previous_inputs:\n",
    "            print(\"You've mentioned that before. Would you like to explore something else or go deeper into this topic?\")\n",
    "            continue\n",
    "        else:\n",
    "            previous_inputs.add(user_input.lower())  # Add new input to the set of previous inputs\n",
    "\n",
    "        emotion, sentiment_score, responses = process_input(user_input)\n",
    "        named_entities = identify_named_entities(user_input)\n",
    "\n",
    "        # Update context if there is a significant change in sentiment\n",
    "        if abs(sentiment_score - previous_sentiment_score) > 0.4:\n",
    "            previous_emotion = current_emotion\n",
    "            current_emotion = emotion\n",
    "            previous_sentiment_score = sentiment_score\n",
    "\n",
    "        # Provide a quote for the appropriate emotion\n",
    "        if emotion != 'neutral' and not emotion_contexts[emotion]['quote_offered']:\n",
    "            print(f\"If you're feeling {emotion}, sometimes a thoughtful quote can offer a new perspective. Would you like to hear one?\")\n",
    "            quote_choice = input(\": \").strip().lower()\n",
    "            if quote_choice in ['yes', 'y', 'ok']:\n",
    "                print(provide_quote(emotion))\n",
    "                emotion_contexts[emotion]['quote_offered'] = True  # Set the flag to True after offering a quote\n",
    "\n",
    "                # Ask if the user feels better now\n",
    "                print(\"I hope that resonated with you. Do you feel a bit better or would you like to keep talking?\")\n",
    "                feel_better = input(\": \").strip().lower()\n",
    "                if feel_better in ['yes', 'y']:\n",
    "                    print(\"I'm glad to hear that. Feel free to share more or ask any questions you might have.\")\n",
    "                else:\n",
    "                    print(\"Understood. Please go ahead and share more of your thoughts or anything else you'd like to discuss.\")\n",
    "            else:\n",
    "                print(\"No problem. Let's continue our conversation. What else would you like to talk about?\")\n",
    "            continue\n",
    "\n",
    "        # Generate response based on the current emotional context\n",
    "        if previous_emotion == current_emotion:\n",
    "            response = random.choice(responses)\n",
    "        else:\n",
    "            response = \"It seems like there might be a change in how you're feeling. Can you tell me more?\"\n",
    "\n",
    "        if named_entities:\n",
    "            response += f\" It must be significant for you to mention {', '.join(named_entities)}.\"\n",
    "\n",
    "        print(response)\n",
    "\n",
    "# Run the chatbot\n",
    "if __name__ == \"__main__\":\n",
    "    eliza_chatbot()"
   ]
  },
  {
   "cell_type": "code",
   "execution_count": null,
   "metadata": {
    "id": "sQiSwkS-hDDd"
   },
   "outputs": [],
   "source": []
  },
  {
   "cell_type": "code",
   "execution_count": null,
   "metadata": {},
   "outputs": [],
   "source": []
  },
  {
   "cell_type": "code",
   "execution_count": null,
   "metadata": {},
   "outputs": [],
   "source": []
  },
  {
   "cell_type": "code",
   "execution_count": null,
   "metadata": {},
   "outputs": [],
   "source": []
  },
  {
   "cell_type": "code",
   "execution_count": null,
   "metadata": {},
   "outputs": [],
   "source": []
  },
  {
   "cell_type": "code",
   "execution_count": null,
   "metadata": {},
   "outputs": [],
   "source": []
  },
  {
   "cell_type": "code",
   "execution_count": null,
   "metadata": {},
   "outputs": [],
   "source": []
  },
  {
   "cell_type": "code",
   "execution_count": null,
   "metadata": {},
   "outputs": [],
   "source": []
  },
  {
   "cell_type": "code",
   "execution_count": null,
   "metadata": {},
   "outputs": [],
   "source": []
  },
  {
   "cell_type": "code",
   "execution_count": null,
   "metadata": {},
   "outputs": [],
   "source": []
  }
 ],
 "metadata": {
  "colab": {
   "provenance": []
  },
  "kernelspec": {
   "display_name": "informaticsPython",
   "language": "python",
   "name": "informaticspython"
  },
  "language_info": {
   "codemirror_mode": {
    "name": "ipython",
    "version": 3
   },
   "file_extension": ".py",
   "mimetype": "text/x-python",
   "name": "python",
   "nbconvert_exporter": "python",
   "pygments_lexer": "ipython3",
   "version": "3.10.12"
  }
 },
 "nbformat": 4,
 "nbformat_minor": 1
}
